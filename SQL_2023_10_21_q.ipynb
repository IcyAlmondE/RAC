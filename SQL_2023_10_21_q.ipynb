{
  "cells": [
    {
      "cell_type": "code",
      "execution_count": 1,
      "metadata": {
        "id": "nE3R6Wqwv4b-"
      },
      "outputs": [],
      "source": [
        "import pandas as pd\n",
        "import duckdb"
      ]
    },
    {
      "cell_type": "code",
      "execution_count": 2,
      "metadata": {
        "colab": {
          "base_uri": "https://localhost:8080/",
          "height": 300
        },
        "id": "2wbR-_xMwH5o",
        "outputId": "f959aaca-f669-4aa6-c68b-279bdae7bb7e"
      },
      "outputs": [
        {
          "data": {
            "text/html": [
              "<div>\n",
              "<style scoped>\n",
              "    .dataframe tbody tr th:only-of-type {\n",
              "        vertical-align: middle;\n",
              "    }\n",
              "\n",
              "    .dataframe tbody tr th {\n",
              "        vertical-align: top;\n",
              "    }\n",
              "\n",
              "    .dataframe thead th {\n",
              "        text-align: right;\n",
              "    }\n",
              "</style>\n",
              "<table border=\"1\" class=\"dataframe\">\n",
              "  <thead>\n",
              "    <tr style=\"text-align: right;\">\n",
              "      <th></th>\n",
              "      <th>PName</th>\n",
              "      <th>Price</th>\n",
              "      <th>Category</th>\n",
              "      <th>Manufacturer</th>\n",
              "    </tr>\n",
              "  </thead>\n",
              "  <tbody>\n",
              "    <tr>\n",
              "      <th>0</th>\n",
              "      <td>Gizmo</td>\n",
              "      <td>19.99</td>\n",
              "      <td>Gadgets</td>\n",
              "      <td>GizmoWorks</td>\n",
              "    </tr>\n",
              "    <tr>\n",
              "      <th>1</th>\n",
              "      <td>Powergizmo</td>\n",
              "      <td>29.99</td>\n",
              "      <td>Gadgets</td>\n",
              "      <td>GizmoWorks</td>\n",
              "    </tr>\n",
              "    <tr>\n",
              "      <th>2</th>\n",
              "      <td>SingleTouch</td>\n",
              "      <td>149.99</td>\n",
              "      <td>Photography</td>\n",
              "      <td>Canon</td>\n",
              "    </tr>\n",
              "    <tr>\n",
              "      <th>3</th>\n",
              "      <td>MultiTouch</td>\n",
              "      <td>203.99</td>\n",
              "      <td>Household</td>\n",
              "      <td>Hitachi</td>\n",
              "    </tr>\n",
              "    <tr>\n",
              "      <th>4</th>\n",
              "      <td>Spinner</td>\n",
              "      <td>39.99</td>\n",
              "      <td>Toy</td>\n",
              "      <td>Huawei</td>\n",
              "    </tr>\n",
              "    <tr>\n",
              "      <th>5</th>\n",
              "      <td>SuperPhone</td>\n",
              "      <td>399.99</td>\n",
              "      <td>Electronics</td>\n",
              "      <td>Huawei</td>\n",
              "    </tr>\n",
              "    <tr>\n",
              "      <th>6</th>\n",
              "      <td>WindUpCar</td>\n",
              "      <td>203.99</td>\n",
              "      <td>Toy</td>\n",
              "      <td>Xiaomi</td>\n",
              "    </tr>\n",
              "    <tr>\n",
              "      <th>7</th>\n",
              "      <td>BatteryPack</td>\n",
              "      <td>499.99</td>\n",
              "      <td>Electronics</td>\n",
              "      <td>BYD</td>\n",
              "    </tr>\n",
              "  </tbody>\n",
              "</table>\n",
              "</div>"
            ],
            "text/plain": [
              "         PName   Price     Category Manufacturer\n",
              "0        Gizmo   19.99      Gadgets   GizmoWorks\n",
              "1   Powergizmo   29.99      Gadgets   GizmoWorks\n",
              "2  SingleTouch  149.99  Photography        Canon\n",
              "3   MultiTouch  203.99    Household      Hitachi\n",
              "4      Spinner   39.99          Toy       Huawei\n",
              "5   SuperPhone  399.99  Electronics       Huawei\n",
              "6    WindUpCar  203.99          Toy       Xiaomi\n",
              "7  BatteryPack  499.99  Electronics          BYD"
            ]
          },
          "execution_count": 2,
          "metadata": {},
          "output_type": "execute_result"
        }
      ],
      "source": [
        "Product = pd.DataFrame((\n",
        "  ('Gizmo', 19.99, 'Gadgets', 'GizmoWorks'),\n",
        "  ('Powergizmo', 29.99, 'Gadgets', 'GizmoWorks'),\n",
        "  ('SingleTouch', 149.99, 'Photography', 'Canon'),\n",
        "  ('MultiTouch', 203.99, 'Household', 'Hitachi'),\n",
        "  ('Spinner', 39.99, 'Toy', 'Huawei'),\n",
        "  ('SuperPhone', 399.99, 'Electronics', 'Huawei'),\n",
        "  ('WindUpCar', 203.99, 'Toy', 'Xiaomi'),\n",
        "  ('BatteryPack', 499.99, 'Electronics', 'BYD'),\n",
        "), columns=('PName', 'Price', 'Category', 'Manufacturer'))\n",
        "Product"
      ]
    },
    {
      "cell_type": "code",
      "execution_count": 3,
      "metadata": {
        "colab": {
          "base_uri": "https://localhost:8080/",
          "height": 237
        },
        "id": "yciQ9w49xGVU",
        "outputId": "bf23d6fa-9f0c-41bc-8b6a-b162175fa424"
      },
      "outputs": [
        {
          "data": {
            "text/html": [
              "<div>\n",
              "<style scoped>\n",
              "    .dataframe tbody tr th:only-of-type {\n",
              "        vertical-align: middle;\n",
              "    }\n",
              "\n",
              "    .dataframe tbody tr th {\n",
              "        vertical-align: top;\n",
              "    }\n",
              "\n",
              "    .dataframe thead th {\n",
              "        text-align: right;\n",
              "    }\n",
              "</style>\n",
              "<table border=\"1\" class=\"dataframe\">\n",
              "  <thead>\n",
              "    <tr style=\"text-align: right;\">\n",
              "      <th></th>\n",
              "      <th>CName</th>\n",
              "      <th>StockPrice</th>\n",
              "      <th>Country</th>\n",
              "      <th>City</th>\n",
              "    </tr>\n",
              "  </thead>\n",
              "  <tbody>\n",
              "    <tr>\n",
              "      <th>0</th>\n",
              "      <td>GizmoWorks</td>\n",
              "      <td>25</td>\n",
              "      <td>USA</td>\n",
              "      <td>Seattle</td>\n",
              "    </tr>\n",
              "    <tr>\n",
              "      <th>1</th>\n",
              "      <td>Canon</td>\n",
              "      <td>65</td>\n",
              "      <td>Japan</td>\n",
              "      <td>Chiba</td>\n",
              "    </tr>\n",
              "    <tr>\n",
              "      <th>2</th>\n",
              "      <td>Hitachi</td>\n",
              "      <td>15</td>\n",
              "      <td>Japan</td>\n",
              "      <td>Kyoto</td>\n",
              "    </tr>\n",
              "    <tr>\n",
              "      <th>3</th>\n",
              "      <td>Huawei</td>\n",
              "      <td>30</td>\n",
              "      <td>China</td>\n",
              "      <td>Shenzhen</td>\n",
              "    </tr>\n",
              "    <tr>\n",
              "      <th>4</th>\n",
              "      <td>Xiaomi</td>\n",
              "      <td>22</td>\n",
              "      <td>China</td>\n",
              "      <td>Xi'an</td>\n",
              "    </tr>\n",
              "    <tr>\n",
              "      <th>5</th>\n",
              "      <td>BYD</td>\n",
              "      <td>100</td>\n",
              "      <td>China</td>\n",
              "      <td>Shenzhen</td>\n",
              "    </tr>\n",
              "  </tbody>\n",
              "</table>\n",
              "</div>"
            ],
            "text/plain": [
              "        CName  StockPrice Country      City\n",
              "0  GizmoWorks          25     USA   Seattle\n",
              "1       Canon          65   Japan     Chiba\n",
              "2     Hitachi          15   Japan     Kyoto\n",
              "3      Huawei          30   China  Shenzhen\n",
              "4      Xiaomi          22   China     Xi'an\n",
              "5         BYD         100   China  Shenzhen"
            ]
          },
          "execution_count": 3,
          "metadata": {},
          "output_type": "execute_result"
        }
      ],
      "source": [
        "Company = pd.DataFrame((\n",
        "  ('GizmoWorks', 25, 'USA', 'Seattle'),\n",
        "  ('Canon', 65, 'Japan', 'Chiba'),\n",
        "  ('Hitachi', 15, 'Japan', 'Kyoto'),\n",
        "  ('Huawei', 30, 'China', 'Shenzhen'),\n",
        "  ('Xiaomi', 22, 'China', 'Xi\\'an'),\n",
        "  ('BYD', 100, 'China', 'Shenzhen'),\n",
        "), columns=('CName', 'StockPrice', 'Country', 'City'))\n",
        "Company"
      ]
    },
    {
      "cell_type": "code",
      "execution_count": 4,
      "metadata": {
        "colab": {
          "base_uri": "https://localhost:8080/",
          "height": 300
        },
        "id": "WxLX2crq_Y5p",
        "outputId": "7c633d0b-09fc-49b7-e4cd-3a36388b1267"
      },
      "outputs": [
        {
          "data": {
            "text/html": [
              "<div>\n",
              "<style scoped>\n",
              "    .dataframe tbody tr th:only-of-type {\n",
              "        vertical-align: middle;\n",
              "    }\n",
              "\n",
              "    .dataframe tbody tr th {\n",
              "        vertical-align: top;\n",
              "    }\n",
              "\n",
              "    .dataframe thead th {\n",
              "        text-align: right;\n",
              "    }\n",
              "</style>\n",
              "<table border=\"1\" class=\"dataframe\">\n",
              "  <thead>\n",
              "    <tr style=\"text-align: right;\">\n",
              "      <th></th>\n",
              "      <th>id</th>\n",
              "      <th>Product</th>\n",
              "      <th>Buyer</th>\n",
              "    </tr>\n",
              "  </thead>\n",
              "  <tbody>\n",
              "    <tr>\n",
              "      <th>0</th>\n",
              "      <td>0</td>\n",
              "      <td>MultiTouch</td>\n",
              "      <td>Joe Blow</td>\n",
              "    </tr>\n",
              "    <tr>\n",
              "      <th>1</th>\n",
              "      <td>1</td>\n",
              "      <td>Spinner</td>\n",
              "      <td>Joe Blow</td>\n",
              "    </tr>\n",
              "    <tr>\n",
              "      <th>2</th>\n",
              "      <td>2</td>\n",
              "      <td>SuperPhone</td>\n",
              "      <td>Joe Blow</td>\n",
              "    </tr>\n",
              "    <tr>\n",
              "      <th>3</th>\n",
              "      <td>3</td>\n",
              "      <td>BatteryPack</td>\n",
              "      <td>Joe Blow</td>\n",
              "    </tr>\n",
              "    <tr>\n",
              "      <th>4</th>\n",
              "      <td>4</td>\n",
              "      <td>Gizmo</td>\n",
              "      <td>Don Juan</td>\n",
              "    </tr>\n",
              "    <tr>\n",
              "      <th>5</th>\n",
              "      <td>5</td>\n",
              "      <td>WindUpCar</td>\n",
              "      <td>Rick Astley</td>\n",
              "    </tr>\n",
              "    <tr>\n",
              "      <th>6</th>\n",
              "      <td>6</td>\n",
              "      <td>Spinner</td>\n",
              "      <td>Rick Astley</td>\n",
              "    </tr>\n",
              "    <tr>\n",
              "      <th>7</th>\n",
              "      <td>7</td>\n",
              "      <td>Powergizmo</td>\n",
              "      <td>Don Juan</td>\n",
              "    </tr>\n",
              "  </tbody>\n",
              "</table>\n",
              "</div>"
            ],
            "text/plain": [
              "   id      Product        Buyer\n",
              "0   0   MultiTouch     Joe Blow\n",
              "1   1      Spinner     Joe Blow\n",
              "2   2   SuperPhone     Joe Blow\n",
              "3   3  BatteryPack     Joe Blow\n",
              "4   4        Gizmo     Don Juan\n",
              "5   5    WindUpCar  Rick Astley\n",
              "6   6      Spinner  Rick Astley\n",
              "7   7   Powergizmo     Don Juan"
            ]
          },
          "execution_count": 4,
          "metadata": {},
          "output_type": "execute_result"
        }
      ],
      "source": [
        "Purchase = pd.DataFrame((\n",
        "  (0, 'MultiTouch', 'Joe Blow'),\n",
        "  (1, 'Spinner', 'Joe Blow'),\n",
        "  (2, 'SuperPhone', 'Joe Blow'),\n",
        "  (3, 'BatteryPack', 'Joe Blow'),\n",
        "  (4, 'Gizmo', 'Don Juan'),\n",
        "  (5, 'WindUpCar', 'Rick Astley'),\n",
        "  (6, 'Spinner', 'Rick Astley'),\n",
        "  (7, 'Powergizmo', 'Don Juan'),\n",
        "), columns=('id', 'Product', 'Buyer'))\n",
        "Purchase"
      ]
    },
    {
      "cell_type": "code",
      "execution_count": 5,
      "metadata": {
        "colab": {
          "base_uri": "https://localhost:8080/"
        },
        "id": "PKCpEkWLyW3-",
        "outputId": "6592bc7a-300c-4460-c099-5c54f75ed840"
      },
      "outputs": [
        {
          "data": {
            "text/plain": [
              "┌─────────────┬────────┬─────────────┬──────────────┐\n",
              "│    PName    │ Price  │  Category   │ Manufacturer │\n",
              "│   varchar   │ double │   varchar   │   varchar    │\n",
              "├─────────────┼────────┼─────────────┼──────────────┤\n",
              "│ Gizmo       │  19.99 │ Gadgets     │ GizmoWorks   │\n",
              "│ Powergizmo  │  29.99 │ Gadgets     │ GizmoWorks   │\n",
              "│ MultiTouch  │ 203.99 │ Household   │ Hitachi      │\n",
              "│ Spinner     │  39.99 │ Toy         │ Huawei       │\n",
              "│ SuperPhone  │ 399.99 │ Electronics │ Huawei       │\n",
              "│ WindUpCar   │ 203.99 │ Toy         │ Xiaomi       │\n",
              "│ BatteryPack │ 499.99 │ Electronics │ BYD          │\n",
              "└─────────────┴────────┴─────────────┴──────────────┘"
            ]
          },
          "execution_count": 5,
          "metadata": {},
          "output_type": "execute_result"
        }
      ],
      "source": [
        "duckdb.query('''\n",
        "  SELECT * FROM Product WHERE Manufacturer <> 'Canon'\n",
        "''')"
      ]
    },
    {
      "cell_type": "markdown",
      "metadata": {
        "id": "noHF-6wd0L01"
      },
      "source": [
        "Slide 19"
      ]
    },
    {
      "cell_type": "code",
      "execution_count": 6,
      "metadata": {
        "colab": {
          "base_uri": "https://localhost:8080/"
        },
        "id": "Sv16B7SdzMOe",
        "outputId": "19633926-e4da-4422-edd0-b6c538802377"
      },
      "outputs": [
        {
          "data": {
            "text/plain": [
              "┌─────────────┬────────┬─────────────┬──────────────┬────────────┬────────────┬─────────┬──────────┐\n",
              "│    PName    │ Price  │  Category   │ Manufacturer │   CName    │ StockPrice │ Country │   City   │\n",
              "│   varchar   │ double │   varchar   │   varchar    │  varchar   │   int64    │ varchar │ varchar  │\n",
              "├─────────────┼────────┼─────────────┼──────────────┼────────────┼────────────┼─────────┼──────────┤\n",
              "│ Gizmo       │  19.99 │ Gadgets     │ GizmoWorks   │ GizmoWorks │         25 │ USA     │ Seattle  │\n",
              "│ Powergizmo  │  29.99 │ Gadgets     │ GizmoWorks   │ GizmoWorks │         25 │ USA     │ Seattle  │\n",
              "│ SingleTouch │ 149.99 │ Photography │ Canon        │ Canon      │         65 │ Japan   │ Chiba    │\n",
              "│ MultiTouch  │ 203.99 │ Household   │ Hitachi      │ Hitachi    │         15 │ Japan   │ Kyoto    │\n",
              "│ Spinner     │  39.99 │ Toy         │ Huawei       │ Huawei     │         30 │ China   │ Shenzhen │\n",
              "│ SuperPhone  │ 399.99 │ Electronics │ Huawei       │ Huawei     │         30 │ China   │ Shenzhen │\n",
              "│ WindUpCar   │ 203.99 │ Toy         │ Xiaomi       │ Xiaomi     │         22 │ China   │ Xi'an    │\n",
              "│ BatteryPack │ 499.99 │ Electronics │ BYD          │ BYD        │        100 │ China   │ Shenzhen │\n",
              "└─────────────┴────────┴─────────────┴──────────────┴────────────┴────────────┴─────────┴──────────┘"
            ]
          },
          "execution_count": 6,
          "metadata": {},
          "output_type": "execute_result"
        }
      ],
      "source": [
        "duckdb.query('''\n",
        "  SELECT *\n",
        "  FROM Product, Company\n",
        "  WHERE Manufacturer = CName\n",
        "  -- AND Country = 'Japan'\n",
        "  -- AND Price < 200\n",
        "''')"
      ]
    },
    {
      "cell_type": "markdown",
      "metadata": {
        "id": "1W4f8PCq0OOc"
      },
      "source": [
        "Slide 20"
      ]
    },
    {
      "cell_type": "code",
      "execution_count": 7,
      "metadata": {
        "colab": {
          "base_uri": "https://localhost:8080/"
        },
        "id": "6v8yVV6s0EiZ",
        "outputId": "b3463076-c688-4637-92e3-bcdbf21388af"
      },
      "outputs": [
        {
          "data": {
            "text/plain": [
              "┌─────────┬────────────┬────────┬─────────────┬──────────────┬─────────┬────────┬──────────┬──────────────┐\n",
              "│  CName  │   PName    │ Price  │  Category   │ Manufacturer │  PName  │ Price  │ Category │ Manufacturer │\n",
              "│ varchar │  varchar   │ double │   varchar   │   varchar    │ varchar │ double │ varchar  │   varchar    │\n",
              "├─────────┼────────────┼────────┼─────────────┼──────────────┼─────────┼────────┼──────────┼──────────────┤\n",
              "│ Huawei  │ SuperPhone │ 399.99 │ Electronics │ Huawei       │ Spinner │  39.99 │ Toy      │ Huawei       │\n",
              "└─────────┴────────────┴────────┴─────────────┴──────────────┴─────────┴────────┴──────────┴──────────────┘"
            ]
          },
          "execution_count": 7,
          "metadata": {},
          "output_type": "execute_result"
        }
      ],
      "source": [
        "duckdb.query('''\n",
        "  SELECT DISTINCT CName, p.*, p2.*\n",
        "  FROM Product AS p, Product as p2, Company AS c\n",
        "  WHERE c.Country = 'China'\n",
        "  AND c.CName = p.Manufacturer AND p.Category = 'Electronics'\n",
        "  AND c.CName = p2.Manufacturer AND p2.Category = 'Toy'\n",
        "''')"
      ]
    },
    {
      "cell_type": "markdown",
      "metadata": {
        "id": "CI-tE0jI47QE"
      },
      "source": [
        "Slide 21"
      ]
    },
    {
      "cell_type": "code",
      "execution_count": 8,
      "metadata": {
        "colab": {
          "base_uri": "https://localhost:8080/"
        },
        "id": "KQes4TNV46XX",
        "outputId": "1e7dce24-5470-4ed0-bdc6-ce4b8b9c9ab4"
      },
      "outputs": [
        {
          "data": {
            "text/plain": [
              "┌─────────┬─────────┬────────┬──────────┬──────────────┬────────────┬────────┬─────────────┬──────────────┐\n",
              "│  CName  │  PName  │ Price  │ Category │ Manufacturer │   PName    │ Price  │  Category   │ Manufacturer │\n",
              "│ varchar │ varchar │ double │ varchar  │   varchar    │  varchar   │ double │   varchar   │   varchar    │\n",
              "├─────────┼─────────┼────────┼──────────┼──────────────┼────────────┼────────┼─────────────┼──────────────┤\n",
              "│ Huawei  │ Spinner │  39.99 │ Toy      │ Huawei       │ SuperPhone │ 399.99 │ Electronics │ Huawei       │\n",
              "└─────────┴─────────┴────────┴──────────┴──────────────┴────────────┴────────┴─────────────┴──────────────┘"
            ]
          },
          "execution_count": 8,
          "metadata": {},
          "output_type": "execute_result"
        }
      ],
      "source": [
        "duckdb.query('''\n",
        "             \n",
        "  SELECT DISTINCT CName, p1.*, p2.*\n",
        "             -- DISTINCT p1.Manufacturer\n",
        "  FROM Product AS p1, Product AS p2, Company AS c\n",
        "  WHERE p1.Manufacturer = c.CName AND p2.Manufacturer = c.CName\n",
        "  AND Country = 'China'\n",
        "  AND (p1.Category = 'Toy'\n",
        "  AND p2.Category = 'Electronics')\n",
        "  -- ลองทำ\n",
        "''')"
      ]
    },
    {
      "cell_type": "markdown",
      "metadata": {
        "id": "AkMH9mF1-1v2"
      },
      "source": [
        "Slide 26"
      ]
    },
    {
      "cell_type": "code",
      "execution_count": 9,
      "metadata": {
        "colab": {
          "base_uri": "https://localhost:8080/"
        },
        "id": "UJso7O0s-1fx",
        "outputId": "3478a8e9-8215-498e-da78-5d98e521adea"
      },
      "outputs": [
        {
          "data": {
            "text/plain": [
              "┌──────────┐\n",
              "│   City   │\n",
              "│ varchar  │\n",
              "├──────────┤\n",
              "│ Kyoto    │\n",
              "│ Shenzhen │\n",
              "│ Shenzhen │\n",
              "└──────────┘"
            ]
          },
          "execution_count": 9,
          "metadata": {},
          "output_type": "execute_result"
        }
      ],
      "source": [
        "duckdb.query('''\n",
        "  SELECT c.City\n",
        "  FROM Company AS c\n",
        "  WHERE c.CName IN (\n",
        "    SELECT p.Manufacturer --, *\n",
        "    FROM Purchase, Product AS p\n",
        "    WHERE p.PName = Purchase.Product\n",
        "    AND Purchase.buyer = 'Joe Blow'\n",
        "  )\n",
        "''')"
      ]
    },
    {
      "cell_type": "markdown",
      "metadata": {
        "id": "VXYqncQpAAGA"
      },
      "source": [
        "Slide 27"
      ]
    },
    {
      "cell_type": "code",
      "execution_count": 10,
      "metadata": {
        "colab": {
          "base_uri": "https://localhost:8080/"
        },
        "id": "T9rTxN7u_-S1",
        "outputId": "202513cd-1f51-44c8-f7d3-be1455f4b3d4"
      },
      "outputs": [
        {
          "data": {
            "text/plain": [
              "┌─────────┬────────────┬─────────┬──────────┬───┬─────────────┬──────────────┬───────┬─────────────┬──────────┐\n",
              "│  CName  │ StockPrice │ Country │   City   │ … │  Category   │ Manufacturer │  id   │   Product   │  Buyer   │\n",
              "│ varchar │   int64    │ varchar │ varchar  │   │   varchar   │   varchar    │ int64 │   varchar   │ varchar  │\n",
              "├─────────┼────────────┼─────────┼──────────┼───┼─────────────┼──────────────┼───────┼─────────────┼──────────┤\n",
              "│ Hitachi │         15 │ Japan   │ Kyoto    │ … │ Household   │ Hitachi      │     0 │ MultiTouch  │ Joe Blow │\n",
              "│ Huawei  │         30 │ China   │ Shenzhen │ … │ Electronics │ Huawei       │     2 │ SuperPhone  │ Joe Blow │\n",
              "│ BYD     │        100 │ China   │ Shenzhen │ … │ Electronics │ BYD          │     3 │ BatteryPack │ Joe Blow │\n",
              "│ Huawei  │         30 │ China   │ Shenzhen │ … │ Toy         │ Huawei       │     1 │ Spinner     │ Joe Blow │\n",
              "├─────────┴────────────┴─────────┴──────────┴───┴─────────────┴──────────────┴───────┴─────────────┴──────────┤\n",
              "│ 4 rows                                                                                 11 columns (9 shown) │\n",
              "└─────────────────────────────────────────────────────────────────────────────────────────────────────────────┘"
            ]
          },
          "execution_count": 10,
          "metadata": {},
          "output_type": "execute_result"
        }
      ],
      "source": [
        "duckdb.query('''\n",
        "  SELECT *--c.City\n",
        "  FROM Company AS c, Product AS p, Purchase\n",
        "  WHERE c.CName = p.Manufacturer\n",
        "  AND p.PName = Purchase.Product\n",
        "  AND Purchase.buyer = 'Joe Blow'\n",
        "''')"
      ]
    },
    {
      "cell_type": "markdown",
      "metadata": {
        "id": "zbloXgb7xOnI"
      },
      "source": [
        "California Housing Train"
      ]
    },
    {
      "cell_type": "code",
      "execution_count": 13,
      "metadata": {
        "id": "9GnYRnfIxNbL"
      },
      "outputs": [],
      "source": [
        "Housing = pd.read_csv('C:\\\\Users\\\\Asus\\\\OneDrive\\\\Desktop\\\\IcyAlmondE\\\\RAC\\\\16-25 Oct\\\\california_housing_train.csv')"
      ]
    },
    {
      "cell_type": "code",
      "execution_count": 14,
      "metadata": {
        "colab": {
          "base_uri": "https://localhost:8080/"
        },
        "id": "6LRrH40gxihE",
        "outputId": "edd147e0-2df9-4c8c-93f0-474f90bd1336"
      },
      "outputs": [
        {
          "data": {
            "text/plain": [
              "Index(['longitude', 'latitude', 'housing_median_age', 'total_rooms',\n",
              "       'total_bedrooms', 'population', 'households', 'median_income',\n",
              "       'median_house_value'],\n",
              "      dtype='object')"
            ]
          },
          "execution_count": 14,
          "metadata": {},
          "output_type": "execute_result"
        }
      ],
      "source": [
        "Housing.columns"
      ]
    },
    {
      "cell_type": "code",
      "execution_count": 15,
      "metadata": {
        "colab": {
          "base_uri": "https://localhost:8080/"
        },
        "id": "xY0Lwc2RxX_i",
        "outputId": "dff95416-cc80-4173-bd0f-9ef8c4731310"
      },
      "outputs": [
        {
          "data": {
            "text/plain": [
              "┌─────────────────────┐\n",
              "│ avg(total_bedrooms) │\n",
              "│       double        │\n",
              "├─────────────────────┤\n",
              "│   539.4108235294118 │\n",
              "└─────────────────────┘"
            ]
          },
          "execution_count": 15,
          "metadata": {},
          "output_type": "execute_result"
        }
      ],
      "source": [
        "duckdb.query('''\n",
        "  SELECT AVG(total_bedrooms) FROM Housing\n",
        "''')"
      ]
    },
    {
      "cell_type": "code",
      "execution_count": 19,
      "metadata": {},
      "outputs": [
        {
          "data": {
            "text/plain": [
              "┌────────────────────┬───────────────┐\n",
              "│ housing_median_age │ median_income │\n",
              "│       double       │    double     │\n",
              "├────────────────────┼───────────────┤\n",
              "│               15.0 │        1.4936 │\n",
              "│               19.0 │          1.82 │\n",
              "│               17.0 │        1.6509 │\n",
              "│               14.0 │        3.1917 │\n",
              "│               20.0 │         1.925 │\n",
              "│               29.0 │        3.3438 │\n",
              "│               25.0 │        2.6768 │\n",
              "│               41.0 │        1.7083 │\n",
              "│               34.0 │        2.1782 │\n",
              "│               46.0 │        2.1908 │\n",
              "│                 ·  │           ·   │\n",
              "│                 ·  │           ·   │\n",
              "│                 ·  │           ·   │\n",
              "│               40.0 │        1.9375 │\n",
              "│               36.0 │        2.5434 │\n",
              "│               29.0 │        1.2176 │\n",
              "│               43.0 │        1.5174 │\n",
              "│               43.0 │         1.869 │\n",
              "│               44.0 │        1.7083 │\n",
              "│               39.0 │        1.5227 │\n",
              "│               51.0 │        3.3125 │\n",
              "│               50.0 │        1.8667 │\n",
              "│               45.0 │        1.7829 │\n",
              "├────────────────────┴───────────────┤\n",
              "│   ? rows (>9999 rows, 20 shown)    │\n",
              "└────────────────────────────────────┘"
            ]
          },
          "execution_count": 19,
          "metadata": {},
          "output_type": "execute_result"
        }
      ],
      "source": [
        "duckdb.query('''\n",
        "    SELECT housing_median_age, median_income\n",
        "    FROM Housing\n",
        "    --GROUP BY housing_median_age\n",
        "''')"
      ]
    },
    {
      "cell_type": "code",
      "execution_count": 44,
      "metadata": {},
      "outputs": [
        {
          "data": {
            "text/plain": [
              "┌──────────────┬─────────────────────────┬─────────────────────────┬─────────────────────┬─────────────────┐\n",
              "│ income_group │ min(housing_median_age) │ max(housing_median_age) │ avg(total_bedrooms) │ sum(population) │\n",
              "│   varchar    │         double          │         double          │       double        │     double      │\n",
              "├──────────────┼─────────────────────────┼─────────────────────────┼─────────────────────┼─────────────────┤\n",
              "│ L            │                     1.0 │                    52.0 │   543.2989799773328 │      18870946.0 │\n",
              "│ M            │                     1.0 │                    52.0 │   536.2413694721826 │       5158848.0 │\n",
              "└──────────────┴─────────────────────────┴─────────────────────────┴─────────────────────┴─────────────────┘"
            ]
          },
          "execution_count": 44,
          "metadata": {},
          "output_type": "execute_result"
        }
      ],
      "source": [
        "duckdb.query('''\n",
        "    --SELECT income_group, COUNT(*)\n",
        "    --FROM\n",
        "    --(\n",
        "        SELECT \n",
        "        CASE\n",
        "            WHEN median_income < 5 THEN 'L'\n",
        "            WHEN median_income < 10 THEN 'M'\n",
        "            ELSE 'H'\n",
        "            END AS income_group,\n",
        "        MIN(housing_median_age), MAX(housing_median_age), AVG(total_bedrooms), SUM(population),\n",
        "        FROM Housing\n",
        "        \n",
        "    --)\n",
        "    GROUP BY income_group\n",
        "    HAVING AVG(total_bedrooms)>500\n",
        "''')"
      ]
    },
    {
      "cell_type": "code",
      "execution_count": 66,
      "metadata": {},
      "outputs": [
        {
          "data": {
            "text/html": [
              "<div>\n",
              "<style scoped>\n",
              "    .dataframe tbody tr th:only-of-type {\n",
              "        vertical-align: middle;\n",
              "    }\n",
              "\n",
              "    .dataframe tbody tr th {\n",
              "        vertical-align: top;\n",
              "    }\n",
              "\n",
              "    .dataframe thead th {\n",
              "        text-align: right;\n",
              "    }\n",
              "</style>\n",
              "<table border=\"1\" class=\"dataframe\">\n",
              "  <thead>\n",
              "    <tr style=\"text-align: right;\">\n",
              "      <th></th>\n",
              "      <th>count_star()</th>\n",
              "      <th>avg(housing_median_age)</th>\n",
              "      <th>avg(total_rooms)</th>\n",
              "      <th>avg(total_bedrooms)</th>\n",
              "      <th>avg(population)</th>\n",
              "      <th>avg(households)</th>\n",
              "      <th>avg(median_income)</th>\n",
              "      <th>avg(median_house_value)</th>\n",
              "    </tr>\n",
              "  </thead>\n",
              "  <tbody>\n",
              "    <tr>\n",
              "      <th>0</th>\n",
              "      <td>14</td>\n",
              "      <td>40.857143</td>\n",
              "      <td>1497.285714</td>\n",
              "      <td>435.857143</td>\n",
              "      <td>851.357143</td>\n",
              "      <td>404.071429</td>\n",
              "      <td>2.700771</td>\n",
              "      <td>296000.0</td>\n",
              "    </tr>\n",
              "  </tbody>\n",
              "</table>\n",
              "</div>"
            ],
            "text/plain": [
              "   count_star()  avg(housing_median_age)  avg(total_rooms)  \\\n",
              "0            14                40.857143       1497.285714   \n",
              "\n",
              "   avg(total_bedrooms)  avg(population)  avg(households)  avg(median_income)  \\\n",
              "0           435.857143       851.357143       404.071429            2.700771   \n",
              "\n",
              "   avg(median_house_value)  \n",
              "0                 296000.0  "
            ]
          },
          "execution_count": 66,
          "metadata": {},
          "output_type": "execute_result"
        }
      ],
      "source": [
        "duckdb.query('''\n",
        "    SELECT  COUNT(*),\n",
        "            --MIN(housing_median_age), \n",
        "            AVG(housing_median_age), \n",
        "            --MAX(housing_median_age),\n",
        "            --MIN(total_rooms), \n",
        "            AVG(total_rooms), \n",
        "            --MAX(total_rooms),\n",
        "            --MIN(total_bedrooms), \n",
        "            AVG(total_bedrooms), \n",
        "            --MAX(total_bedrooms),\n",
        "            --MIN(population), \n",
        "            AVG(population), \n",
        "            --MAX(population),\n",
        "            --MIN(households), \n",
        "            AVG(households), \n",
        "            --MAX(households),\n",
        "            --MIN(median_income), \n",
        "            AVG(median_income), \n",
        "            --MAX(median_income),\n",
        "            --MIN(median_house_value), \n",
        "            AVG(median_house_value), \n",
        "            --MAX(median_house_value)\n",
        "    FROM Housing AS h\n",
        "    WHERE (h.latitude-34.42895833453776)**2 + (h.longitude- -119.7077359512203)**2 <= 0.01**2\n",
        "''').df()"
      ]
    },
    {
      "cell_type": "code",
      "execution_count": null,
      "metadata": {},
      "outputs": [],
      "source": []
    }
  ],
  "metadata": {
    "colab": {
      "provenance": []
    },
    "kernelspec": {
      "display_name": "Python 3",
      "name": "python3"
    },
    "language_info": {
      "codemirror_mode": {
        "name": "ipython",
        "version": 3
      },
      "file_extension": ".py",
      "mimetype": "text/x-python",
      "name": "python",
      "nbconvert_exporter": "python",
      "pygments_lexer": "ipython3",
      "version": "3.10.11"
    }
  },
  "nbformat": 4,
  "nbformat_minor": 0
}
